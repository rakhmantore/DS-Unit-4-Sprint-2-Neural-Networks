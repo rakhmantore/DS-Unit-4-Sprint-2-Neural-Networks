{
  "nbformat": 4,
  "nbformat_minor": 0,
  "metadata": {
    "colab": {
      "name": "LS_DS_432_Train_Assignment.ipynb",
      "provenance": [],
      "collapsed_sections": [],
      "toc_visible": true
    },
    "kernelspec": {
      "display_name": "Python 3",
      "language": "python",
      "name": "python3"
    },
    "language_info": {
      "codemirror_mode": {
        "name": "ipython",
        "version": 3
      },
      "file_extension": ".py",
      "mimetype": "text/x-python",
      "name": "python",
      "nbconvert_exporter": "python",
      "pygments_lexer": "ipython3",
      "version": "3.7.3"
    },
    "nteract": {
      "version": "0.22.4"
    }
  },
  "cells": [
    {
      "cell_type": "markdown",
      "metadata": {
        "id": "NGGrt9EYlCqY"
      },
      "source": [
        "<img align=\"left\" src=\"https://lever-client-logos.s3.amazonaws.com/864372b1-534c-480e-acd5-9711f850815c-1524247202159.png\" width=200>\n",
        "<br></br>\n",
        "<br></br>\n",
        "\n",
        "# Train Practice\n",
        "\n",
        "## *Data Science Unit 4 Sprint 2 Assignment 2*\n",
        "\n",
        "Continue to use TensorFlow Keras & a sample of the [Quickdraw dataset](https://github.com/googlecreativelab/quickdraw-dataset) to build a sketch classification model. The dataset has been sampled to only 10 classes and 10000 observations per class. Please build a baseline classification model then run a few experiments with different optimizers and learning rates. \n",
        "\n",
        "*Don't forgot to switch to GPU on Colab!*"
      ]
    },
    {
      "cell_type": "markdown",
      "metadata": {
        "id": "ptJ2b3wk62Ud"
      },
      "source": [
        "### Write a function to load your data\n",
        "\n",
        "Wrap yesterday's preprocessing steps into a function that returns four items:\n",
        "* X_train\n",
        "* y_train\n",
        "* X_test\n",
        "* y_test\n",
        "\n",
        "Your function should accept a `path` to the data as a argument."
      ]
    },
    {
      "cell_type": "code",
      "metadata": {
        "id": "PLhmrViLs8Wn"
      },
      "source": [
        "import numpy as np\n",
        "import tensorflow as tf\n",
        "from sklearn.model_selection import train_test_split\n",
        "from sklearn.utils import shuffle"
      ],
      "execution_count": null,
      "outputs": []
    },
    {
      "cell_type": "code",
      "metadata": {
        "id": "nJsIsrvp7O3e"
      },
      "source": [
        "def load_quickdraw10(path):\n",
        "  data = np.load(path)\n",
        "  X = data['arr_0']\n",
        "  y = data['arr_1']\n",
        "  X, y = shuffle(X, y)\n",
        "  X_train, X_test, y_train, y_test = train_test_split(X, y, train_size=0.8, test_size=0.2, random_state=42)\n",
        "  X_train = X_train / 255.\n",
        "  X_test = X_test / 255.\n",
        "  return X_train, y_train, X_test, y_test"
      ],
      "execution_count": null,
      "outputs": []
    },
    {
      "cell_type": "code",
      "metadata": {
        "id": "K-LjQLBJvis4"
      },
      "source": [
        "X_train, y_train, X_test, y_test = load_quickdraw10('quickdraw10.npz')"
      ],
      "execution_count": null,
      "outputs": []
    },
    {
      "cell_type": "code",
      "metadata": {
        "colab": {
          "base_uri": "https://localhost:8080/"
        },
        "id": "R-Y7GDJTvuW4",
        "outputId": "9ff35fe3-19fc-4dbf-8754-d0226f26aa4b"
      },
      "source": [
        "X_train.shape"
      ],
      "execution_count": null,
      "outputs": [
        {
          "output_type": "execute_result",
          "data": {
            "text/plain": [
              "(80000, 784)"
            ]
          },
          "metadata": {
            "tags": []
          },
          "execution_count": 11
        }
      ]
    },
    {
      "cell_type": "markdown",
      "metadata": {
        "id": "l-6PxI6H5__2"
      },
      "source": [
        "### Write a Model Function\n",
        "Using your model from yesterday, write a function called `create_model` which returns a compiled TensorFlow Keras Sequential Model suitable for classifying the QuickDraw-10 dataset. Include parameters for the following: \n",
        "* Learning Rate\n",
        "* Optimizer"
      ]
    },
    {
      "cell_type": "code",
      "metadata": {
        "id": "8NfcNLjgwVZH"
      },
      "source": [
        "from tensorflow.keras import Sequential\n",
        "from tensorflow.keras.layers import Dense\n",
        "from tensorflow.keras.optimizers import SGD\n",
        "from tensorflow.keras.optimizers import Adam"
      ],
      "execution_count": null,
      "outputs": []
    },
    {
      "cell_type": "code",
      "metadata": {
        "id": "nEREYT-3wI1f"
      },
      "source": [
        "##### Your Code Here #####\n",
        "\n",
        "def create_model(lr=0.01, opt = 'Adam'):\n",
        "  if opt == 'Adam':\n",
        "    opt = Adam(learning_rate=lr)\n",
        "  elif opt == 'Adagrad':\n",
        "    opt = Adagrad(learning_rate=lr)\n",
        "  elif opt == 'Adadelta':\n",
        "    opt = Adadelta(learning_rate=lr)\n",
        "  elif opt == 'SGD':\n",
        "    opt = SGD(learning_rate=lr)\n",
        "  elif opt == 'Nadam':\n",
        "    opt = Nadam(learning_rate=lr)\n",
        "  model = Sequential([\n",
        "    Dense(32, activation='sigmoid', input_dim=784),\n",
        "    Dense(32, activation='sigmoid'),\n",
        "    Dense(10, activation='softmax')\n",
        "    ])\n",
        "  model.compile(optimizer=opt, loss='sparse_categorical_crossentropy',\n",
        "                metrics=['accuracy'])\n",
        "  return model"
      ],
      "execution_count": 17,
      "outputs": []
    },
    {
      "cell_type": "markdown",
      "metadata": {
        "id": "f0pCkh8C7eGL"
      },
      "source": [
        "### Experiment with Batch Size\n",
        "* Run 5 experiments with various batch sizes of your choice. \n",
        "* Visualize the results\n",
        "* Write up an analysis of the experiments and select the \"best\" performing model among your experiments. Make sure to compare against your model's performance yesterday. "
      ]
    },
    {
      "cell_type": "code",
      "metadata": {
        "id": "USXjs7Hk71Hy"
      },
      "source": [
        "X_train, X_val, y_train, y_val = train_test_split(X_train, y_train, train_size=0.8, test_size=0.2, random_state=42)"
      ],
      "execution_count": 18,
      "outputs": []
    },
    {
      "cell_type": "code",
      "metadata": {
        "colab": {
          "base_uri": "https://localhost:8080/"
        },
        "id": "tB2hDUU0Kjk5",
        "outputId": "94c2e9d3-1e33-434b-d64a-3ec14269fc26"
      },
      "source": [
        "model = create_model()\n",
        "model.summary()"
      ],
      "execution_count": 19,
      "outputs": [
        {
          "output_type": "stream",
          "text": [
            "Model: \"sequential\"\n",
            "_________________________________________________________________\n",
            "Layer (type)                 Output Shape              Param #   \n",
            "=================================================================\n",
            "dense (Dense)                (None, 32)                25120     \n",
            "_________________________________________________________________\n",
            "dense_1 (Dense)              (None, 32)                1056      \n",
            "_________________________________________________________________\n",
            "dense_2 (Dense)              (None, 10)                330       \n",
            "=================================================================\n",
            "Total params: 26,506\n",
            "Trainable params: 26,506\n",
            "Non-trainable params: 0\n",
            "_________________________________________________________________\n"
          ],
          "name": "stdout"
        }
      ]
    },
    {
      "cell_type": "code",
      "metadata": {
        "colab": {
          "base_uri": "https://localhost:8080/"
        },
        "id": "mNLQpdITKs8W",
        "outputId": "ea8d13b4-d7a3-4ea0-e14a-58c6b258676c"
      },
      "source": [
        "bt_32 = model.fit(\n",
        "  X_train, y_train,\n",
        "  epochs=25,\n",
        "  batch_size=32,\n",
        "  validation_data=(X_test, y_test)\n",
        ")"
      ],
      "execution_count": 20,
      "outputs": [
        {
          "output_type": "stream",
          "text": [
            "Epoch 1/25\n",
            "2000/2000 [==============================] - 3s 2ms/step - loss: 0.8150 - accuracy: 0.7485 - val_loss: 0.7021 - val_accuracy: 0.7819\n",
            "Epoch 2/25\n",
            "2000/2000 [==============================] - 3s 2ms/step - loss: 0.6558 - accuracy: 0.7998 - val_loss: 0.6645 - val_accuracy: 0.7984\n",
            "Epoch 3/25\n",
            "2000/2000 [==============================] - 3s 2ms/step - loss: 0.6104 - accuracy: 0.8135 - val_loss: 0.6421 - val_accuracy: 0.8080\n",
            "Epoch 4/25\n",
            "2000/2000 [==============================] - 3s 2ms/step - loss: 0.5908 - accuracy: 0.8190 - val_loss: 0.6162 - val_accuracy: 0.8108\n",
            "Epoch 5/25\n",
            "2000/2000 [==============================] - 3s 2ms/step - loss: 0.5744 - accuracy: 0.8257 - val_loss: 0.6227 - val_accuracy: 0.8144\n",
            "Epoch 6/25\n",
            "2000/2000 [==============================] - 4s 2ms/step - loss: 0.5600 - accuracy: 0.8305 - val_loss: 0.6309 - val_accuracy: 0.8116\n",
            "Epoch 7/25\n",
            "2000/2000 [==============================] - 4s 2ms/step - loss: 0.5465 - accuracy: 0.8338 - val_loss: 0.6266 - val_accuracy: 0.8122\n",
            "Epoch 8/25\n",
            "2000/2000 [==============================] - 3s 2ms/step - loss: 0.5403 - accuracy: 0.8365 - val_loss: 0.6159 - val_accuracy: 0.8191\n",
            "Epoch 9/25\n",
            "2000/2000 [==============================] - 3s 2ms/step - loss: 0.5304 - accuracy: 0.8399 - val_loss: 0.6293 - val_accuracy: 0.8156\n",
            "Epoch 10/25\n",
            "2000/2000 [==============================] - 3s 2ms/step - loss: 0.5265 - accuracy: 0.8396 - val_loss: 0.6113 - val_accuracy: 0.8162\n",
            "Epoch 11/25\n",
            "2000/2000 [==============================] - 3s 2ms/step - loss: 0.5178 - accuracy: 0.8426 - val_loss: 0.6201 - val_accuracy: 0.8166\n",
            "Epoch 12/25\n",
            "2000/2000 [==============================] - 3s 2ms/step - loss: 0.5113 - accuracy: 0.8447 - val_loss: 0.6223 - val_accuracy: 0.8169\n",
            "Epoch 13/25\n",
            "2000/2000 [==============================] - 3s 2ms/step - loss: 0.5060 - accuracy: 0.8454 - val_loss: 0.6253 - val_accuracy: 0.8153\n",
            "Epoch 14/25\n",
            "2000/2000 [==============================] - 3s 2ms/step - loss: 0.4988 - accuracy: 0.8478 - val_loss: 0.6226 - val_accuracy: 0.8161\n",
            "Epoch 15/25\n",
            "2000/2000 [==============================] - 3s 2ms/step - loss: 0.4948 - accuracy: 0.8492 - val_loss: 0.6177 - val_accuracy: 0.8164\n",
            "Epoch 16/25\n",
            "2000/2000 [==============================] - 3s 2ms/step - loss: 0.4899 - accuracy: 0.8509 - val_loss: 0.6144 - val_accuracy: 0.8195\n",
            "Epoch 17/25\n",
            "2000/2000 [==============================] - 3s 2ms/step - loss: 0.4835 - accuracy: 0.8528 - val_loss: 0.6246 - val_accuracy: 0.8156\n",
            "Epoch 18/25\n",
            "2000/2000 [==============================] - 3s 2ms/step - loss: 0.4807 - accuracy: 0.8533 - val_loss: 0.6183 - val_accuracy: 0.8182\n",
            "Epoch 19/25\n",
            "2000/2000 [==============================] - 3s 2ms/step - loss: 0.4775 - accuracy: 0.8552 - val_loss: 0.6131 - val_accuracy: 0.8187\n",
            "Epoch 20/25\n",
            "2000/2000 [==============================] - 3s 2ms/step - loss: 0.4709 - accuracy: 0.8565 - val_loss: 0.6192 - val_accuracy: 0.8195\n",
            "Epoch 21/25\n",
            "2000/2000 [==============================] - 3s 2ms/step - loss: 0.4664 - accuracy: 0.8564 - val_loss: 0.6136 - val_accuracy: 0.8187\n",
            "Epoch 22/25\n",
            "2000/2000 [==============================] - 3s 2ms/step - loss: 0.4654 - accuracy: 0.8583 - val_loss: 0.6243 - val_accuracy: 0.8140\n",
            "Epoch 23/25\n",
            "2000/2000 [==============================] - 3s 2ms/step - loss: 0.4600 - accuracy: 0.8593 - val_loss: 0.6240 - val_accuracy: 0.8177\n",
            "Epoch 24/25\n",
            "2000/2000 [==============================] - 3s 2ms/step - loss: 0.4588 - accuracy: 0.8588 - val_loss: 0.6179 - val_accuracy: 0.8196\n",
            "Epoch 25/25\n",
            "2000/2000 [==============================] - 3s 2ms/step - loss: 0.4551 - accuracy: 0.8619 - val_loss: 0.6260 - val_accuracy: 0.8203\n"
          ],
          "name": "stdout"
        }
      ]
    },
    {
      "cell_type": "code",
      "metadata": {
        "colab": {
          "base_uri": "https://localhost:8080/"
        },
        "id": "IvmxaUr6K7il",
        "outputId": "a0358d6a-f35a-479c-db26-220a19f596ec"
      },
      "source": [
        "bt_8 = model.fit(\n",
        "  X_train, y_train,\n",
        "  epochs=25,\n",
        "  batch_size=32,\n",
        "  validation_data=(X_test, y_test)\n",
        ")"
      ],
      "execution_count": 21,
      "outputs": [
        {
          "output_type": "stream",
          "text": [
            "Epoch 1/25\n",
            "2000/2000 [==============================] - 3s 2ms/step - loss: 0.4535 - accuracy: 0.8621 - val_loss: 0.6248 - val_accuracy: 0.8189\n",
            "Epoch 2/25\n",
            "2000/2000 [==============================] - 3s 2ms/step - loss: 0.4481 - accuracy: 0.8637 - val_loss: 0.6347 - val_accuracy: 0.8162\n",
            "Epoch 3/25\n",
            "2000/2000 [==============================] - 3s 2ms/step - loss: 0.4463 - accuracy: 0.8633 - val_loss: 0.6352 - val_accuracy: 0.8164\n",
            "Epoch 4/25\n",
            "2000/2000 [==============================] - 3s 2ms/step - loss: 0.4442 - accuracy: 0.8644 - val_loss: 0.6313 - val_accuracy: 0.8159\n",
            "Epoch 5/25\n",
            "2000/2000 [==============================] - 3s 2ms/step - loss: 0.4399 - accuracy: 0.8659 - val_loss: 0.6277 - val_accuracy: 0.8200\n",
            "Epoch 6/25\n",
            "2000/2000 [==============================] - 3s 2ms/step - loss: 0.4323 - accuracy: 0.8688 - val_loss: 0.6333 - val_accuracy: 0.8180\n",
            "Epoch 7/25\n",
            "2000/2000 [==============================] - 3s 2ms/step - loss: 0.4336 - accuracy: 0.8678 - val_loss: 0.6286 - val_accuracy: 0.8207\n",
            "Epoch 8/25\n",
            "2000/2000 [==============================] - 3s 2ms/step - loss: 0.4309 - accuracy: 0.8690 - val_loss: 0.6369 - val_accuracy: 0.8186\n",
            "Epoch 9/25\n",
            "2000/2000 [==============================] - 3s 2ms/step - loss: 0.4299 - accuracy: 0.8691 - val_loss: 0.6501 - val_accuracy: 0.8164\n",
            "Epoch 10/25\n",
            "2000/2000 [==============================] - 3s 2ms/step - loss: 0.4268 - accuracy: 0.8705 - val_loss: 0.6420 - val_accuracy: 0.8206\n",
            "Epoch 11/25\n",
            "2000/2000 [==============================] - 3s 2ms/step - loss: 0.4250 - accuracy: 0.8700 - val_loss: 0.6397 - val_accuracy: 0.8217\n",
            "Epoch 12/25\n",
            "2000/2000 [==============================] - 3s 2ms/step - loss: 0.4220 - accuracy: 0.8711 - val_loss: 0.6525 - val_accuracy: 0.8159\n",
            "Epoch 13/25\n",
            "2000/2000 [==============================] - 3s 2ms/step - loss: 0.4199 - accuracy: 0.8716 - val_loss: 0.6414 - val_accuracy: 0.8227\n",
            "Epoch 14/25\n",
            "2000/2000 [==============================] - 3s 2ms/step - loss: 0.4150 - accuracy: 0.8730 - val_loss: 0.6476 - val_accuracy: 0.8161\n",
            "Epoch 15/25\n",
            "2000/2000 [==============================] - 3s 2ms/step - loss: 0.4172 - accuracy: 0.8718 - val_loss: 0.6515 - val_accuracy: 0.8176\n",
            "Epoch 16/25\n",
            "2000/2000 [==============================] - 3s 2ms/step - loss: 0.4137 - accuracy: 0.8728 - val_loss: 0.6516 - val_accuracy: 0.8151\n",
            "Epoch 17/25\n",
            "2000/2000 [==============================] - 3s 2ms/step - loss: 0.4124 - accuracy: 0.8740 - val_loss: 0.6477 - val_accuracy: 0.8170\n",
            "Epoch 18/25\n",
            "2000/2000 [==============================] - 3s 2ms/step - loss: 0.4091 - accuracy: 0.8747 - val_loss: 0.6611 - val_accuracy: 0.8151\n",
            "Epoch 19/25\n",
            "2000/2000 [==============================] - 3s 2ms/step - loss: 0.4086 - accuracy: 0.8743 - val_loss: 0.6451 - val_accuracy: 0.8196\n",
            "Epoch 20/25\n",
            "2000/2000 [==============================] - 3s 2ms/step - loss: 0.4057 - accuracy: 0.8763 - val_loss: 0.6466 - val_accuracy: 0.8172\n",
            "Epoch 21/25\n",
            "2000/2000 [==============================] - 3s 2ms/step - loss: 0.4065 - accuracy: 0.8746 - val_loss: 0.6541 - val_accuracy: 0.8170\n",
            "Epoch 22/25\n",
            "2000/2000 [==============================] - 3s 2ms/step - loss: 0.4005 - accuracy: 0.8774 - val_loss: 0.6525 - val_accuracy: 0.8149\n",
            "Epoch 23/25\n",
            "2000/2000 [==============================] - 3s 2ms/step - loss: 0.4026 - accuracy: 0.8763 - val_loss: 0.6622 - val_accuracy: 0.8170\n",
            "Epoch 24/25\n",
            "2000/2000 [==============================] - 3s 2ms/step - loss: 0.3974 - accuracy: 0.8793 - val_loss: 0.6572 - val_accuracy: 0.8198\n",
            "Epoch 25/25\n",
            "2000/2000 [==============================] - 3s 2ms/step - loss: 0.3971 - accuracy: 0.8777 - val_loss: 0.6630 - val_accuracy: 0.8148\n"
          ],
          "name": "stdout"
        }
      ]
    },
    {
      "cell_type": "code",
      "metadata": {
        "colab": {
          "base_uri": "https://localhost:8080/"
        },
        "id": "EB180FMdK77x",
        "outputId": "e81cfee2-b9d4-44a9-bc54-917f8f38063d"
      },
      "source": [
        "bt_16 = model.fit(\n",
        "  X_train, y_train,\n",
        "  epochs=25,\n",
        "  batch_size=32,\n",
        "  validation_data=(X_test, y_test)\n",
        ")"
      ],
      "execution_count": 22,
      "outputs": [
        {
          "output_type": "stream",
          "text": [
            "Epoch 1/25\n",
            "2000/2000 [==============================] - 3s 2ms/step - loss: 0.4019 - accuracy: 0.8770 - val_loss: 0.6548 - val_accuracy: 0.8196\n",
            "Epoch 2/25\n",
            "2000/2000 [==============================] - 3s 2ms/step - loss: 0.3969 - accuracy: 0.8799 - val_loss: 0.6540 - val_accuracy: 0.8162\n",
            "Epoch 3/25\n",
            "2000/2000 [==============================] - 3s 2ms/step - loss: 0.3921 - accuracy: 0.8802 - val_loss: 0.6579 - val_accuracy: 0.8194\n",
            "Epoch 4/25\n",
            "2000/2000 [==============================] - 3s 2ms/step - loss: 0.3961 - accuracy: 0.8793 - val_loss: 0.6625 - val_accuracy: 0.8154\n",
            "Epoch 5/25\n",
            "2000/2000 [==============================] - 3s 2ms/step - loss: 0.3924 - accuracy: 0.8796 - val_loss: 0.6664 - val_accuracy: 0.8138\n",
            "Epoch 6/25\n",
            "2000/2000 [==============================] - 3s 2ms/step - loss: 0.3881 - accuracy: 0.8814 - val_loss: 0.6653 - val_accuracy: 0.8182\n",
            "Epoch 7/25\n",
            "2000/2000 [==============================] - 3s 2ms/step - loss: 0.3884 - accuracy: 0.8821 - val_loss: 0.6618 - val_accuracy: 0.8147\n",
            "Epoch 8/25\n",
            "2000/2000 [==============================] - 3s 2ms/step - loss: 0.3888 - accuracy: 0.8805 - val_loss: 0.6745 - val_accuracy: 0.8160\n",
            "Epoch 9/25\n",
            "2000/2000 [==============================] - 3s 2ms/step - loss: 0.3843 - accuracy: 0.8827 - val_loss: 0.6845 - val_accuracy: 0.8166\n",
            "Epoch 10/25\n",
            "2000/2000 [==============================] - 3s 2ms/step - loss: 0.3856 - accuracy: 0.8820 - val_loss: 0.6593 - val_accuracy: 0.8188\n",
            "Epoch 11/25\n",
            "2000/2000 [==============================] - 3s 2ms/step - loss: 0.3825 - accuracy: 0.8835 - val_loss: 0.6668 - val_accuracy: 0.8159\n",
            "Epoch 12/25\n",
            "2000/2000 [==============================] - 3s 2ms/step - loss: 0.3778 - accuracy: 0.8839 - val_loss: 0.6764 - val_accuracy: 0.8166\n",
            "Epoch 13/25\n",
            "2000/2000 [==============================] - 3s 2ms/step - loss: 0.3779 - accuracy: 0.8846 - val_loss: 0.6874 - val_accuracy: 0.8107\n",
            "Epoch 14/25\n",
            "2000/2000 [==============================] - 3s 2ms/step - loss: 0.3770 - accuracy: 0.8852 - val_loss: 0.6729 - val_accuracy: 0.8151\n",
            "Epoch 15/25\n",
            "2000/2000 [==============================] - 3s 2ms/step - loss: 0.3802 - accuracy: 0.8839 - val_loss: 0.6825 - val_accuracy: 0.8149\n",
            "Epoch 16/25\n",
            "2000/2000 [==============================] - 3s 2ms/step - loss: 0.3775 - accuracy: 0.8852 - val_loss: 0.6716 - val_accuracy: 0.8177\n",
            "Epoch 17/25\n",
            "2000/2000 [==============================] - 3s 2ms/step - loss: 0.3759 - accuracy: 0.8858 - val_loss: 0.6848 - val_accuracy: 0.8112\n",
            "Epoch 18/25\n",
            "2000/2000 [==============================] - 3s 2ms/step - loss: 0.3745 - accuracy: 0.8850 - val_loss: 0.6653 - val_accuracy: 0.8166\n",
            "Epoch 19/25\n",
            "2000/2000 [==============================] - 3s 2ms/step - loss: 0.3747 - accuracy: 0.8857 - val_loss: 0.6880 - val_accuracy: 0.8137\n",
            "Epoch 20/25\n",
            "2000/2000 [==============================] - 4s 2ms/step - loss: 0.3706 - accuracy: 0.8857 - val_loss: 0.6796 - val_accuracy: 0.8164\n",
            "Epoch 21/25\n",
            "2000/2000 [==============================] - 4s 2ms/step - loss: 0.3756 - accuracy: 0.8847 - val_loss: 0.6852 - val_accuracy: 0.8146\n",
            "Epoch 22/25\n",
            "2000/2000 [==============================] - 3s 2ms/step - loss: 0.3685 - accuracy: 0.8870 - val_loss: 0.6921 - val_accuracy: 0.8101\n",
            "Epoch 23/25\n",
            "2000/2000 [==============================] - 3s 2ms/step - loss: 0.3708 - accuracy: 0.8855 - val_loss: 0.6856 - val_accuracy: 0.8119\n",
            "Epoch 24/25\n",
            "2000/2000 [==============================] - 3s 2ms/step - loss: 0.3695 - accuracy: 0.8871 - val_loss: 0.7013 - val_accuracy: 0.8121\n",
            "Epoch 25/25\n",
            "2000/2000 [==============================] - 3s 2ms/step - loss: 0.3669 - accuracy: 0.8885 - val_loss: 0.6835 - val_accuracy: 0.8153\n"
          ],
          "name": "stdout"
        }
      ]
    },
    {
      "cell_type": "code",
      "metadata": {
        "colab": {
          "base_uri": "https://localhost:8080/"
        },
        "id": "-lH6ZMFXK8RM",
        "outputId": "c780dfa4-53ff-4871-fb9a-3baaada5432b"
      },
      "source": [
        "bt_64 = model.fit(\n",
        "  X_train, y_train,\n",
        "  epochs=25,\n",
        "  batch_size=32,\n",
        "  validation_data=(X_test, y_test)\n",
        ")"
      ],
      "execution_count": 23,
      "outputs": [
        {
          "output_type": "stream",
          "text": [
            "Epoch 1/25\n",
            "2000/2000 [==============================] - 3s 2ms/step - loss: 0.3668 - accuracy: 0.8886 - val_loss: 0.6826 - val_accuracy: 0.8151\n",
            "Epoch 2/25\n",
            "2000/2000 [==============================] - 3s 2ms/step - loss: 0.3641 - accuracy: 0.8891 - val_loss: 0.6936 - val_accuracy: 0.8132\n",
            "Epoch 3/25\n",
            "2000/2000 [==============================] - 3s 2ms/step - loss: 0.3607 - accuracy: 0.8903 - val_loss: 0.6889 - val_accuracy: 0.8173\n",
            "Epoch 4/25\n",
            "2000/2000 [==============================] - 3s 2ms/step - loss: 0.3661 - accuracy: 0.8880 - val_loss: 0.6822 - val_accuracy: 0.8148\n",
            "Epoch 5/25\n",
            "2000/2000 [==============================] - 3s 2ms/step - loss: 0.3634 - accuracy: 0.8894 - val_loss: 0.6950 - val_accuracy: 0.8110\n",
            "Epoch 6/25\n",
            "2000/2000 [==============================] - 3s 2ms/step - loss: 0.3628 - accuracy: 0.8899 - val_loss: 0.6975 - val_accuracy: 0.8152\n",
            "Epoch 7/25\n",
            "2000/2000 [==============================] - 3s 2ms/step - loss: 0.3604 - accuracy: 0.8895 - val_loss: 0.7024 - val_accuracy: 0.8117\n",
            "Epoch 8/25\n",
            "2000/2000 [==============================] - 3s 2ms/step - loss: 0.3580 - accuracy: 0.8909 - val_loss: 0.7019 - val_accuracy: 0.8144\n",
            "Epoch 9/25\n",
            "2000/2000 [==============================] - 3s 2ms/step - loss: 0.3583 - accuracy: 0.8905 - val_loss: 0.6937 - val_accuracy: 0.8146\n",
            "Epoch 10/25\n",
            "2000/2000 [==============================] - 3s 2ms/step - loss: 0.3608 - accuracy: 0.8888 - val_loss: 0.6954 - val_accuracy: 0.8132\n",
            "Epoch 11/25\n",
            "2000/2000 [==============================] - 4s 2ms/step - loss: 0.3564 - accuracy: 0.8908 - val_loss: 0.7069 - val_accuracy: 0.8127\n",
            "Epoch 12/25\n",
            "2000/2000 [==============================] - 4s 2ms/step - loss: 0.3575 - accuracy: 0.8906 - val_loss: 0.7090 - val_accuracy: 0.8152\n",
            "Epoch 13/25\n",
            "2000/2000 [==============================] - 3s 2ms/step - loss: 0.3530 - accuracy: 0.8917 - val_loss: 0.7059 - val_accuracy: 0.8122\n",
            "Epoch 14/25\n",
            "2000/2000 [==============================] - 3s 2ms/step - loss: 0.3586 - accuracy: 0.8905 - val_loss: 0.7086 - val_accuracy: 0.8138\n",
            "Epoch 15/25\n",
            "2000/2000 [==============================] - 3s 2ms/step - loss: 0.3525 - accuracy: 0.8925 - val_loss: 0.7012 - val_accuracy: 0.8127\n",
            "Epoch 16/25\n",
            "2000/2000 [==============================] - 3s 2ms/step - loss: 0.3523 - accuracy: 0.8924 - val_loss: 0.7165 - val_accuracy: 0.8116\n",
            "Epoch 17/25\n",
            "2000/2000 [==============================] - 3s 2ms/step - loss: 0.3543 - accuracy: 0.8911 - val_loss: 0.7188 - val_accuracy: 0.8109\n",
            "Epoch 18/25\n",
            "2000/2000 [==============================] - 3s 2ms/step - loss: 0.3492 - accuracy: 0.8926 - val_loss: 0.7287 - val_accuracy: 0.8116\n",
            "Epoch 19/25\n",
            "2000/2000 [==============================] - 3s 2ms/step - loss: 0.3507 - accuracy: 0.8922 - val_loss: 0.7105 - val_accuracy: 0.8128\n",
            "Epoch 20/25\n",
            "2000/2000 [==============================] - 3s 2ms/step - loss: 0.3499 - accuracy: 0.8928 - val_loss: 0.7102 - val_accuracy: 0.8155\n",
            "Epoch 21/25\n",
            "2000/2000 [==============================] - 3s 2ms/step - loss: 0.3477 - accuracy: 0.8936 - val_loss: 0.7133 - val_accuracy: 0.8143\n",
            "Epoch 22/25\n",
            "2000/2000 [==============================] - 3s 2ms/step - loss: 0.3489 - accuracy: 0.8931 - val_loss: 0.7041 - val_accuracy: 0.8131\n",
            "Epoch 23/25\n",
            "2000/2000 [==============================] - 3s 2ms/step - loss: 0.3481 - accuracy: 0.8944 - val_loss: 0.7183 - val_accuracy: 0.8140\n",
            "Epoch 24/25\n",
            "2000/2000 [==============================] - 3s 2ms/step - loss: 0.3483 - accuracy: 0.8925 - val_loss: 0.7284 - val_accuracy: 0.8130\n",
            "Epoch 25/25\n",
            "2000/2000 [==============================] - 3s 2ms/step - loss: 0.3501 - accuracy: 0.8936 - val_loss: 0.7089 - val_accuracy: 0.8130\n"
          ],
          "name": "stdout"
        }
      ]
    },
    {
      "cell_type": "code",
      "metadata": {
        "colab": {
          "base_uri": "https://localhost:8080/"
        },
        "id": "RQnsovddK8ik",
        "outputId": "63b1586b-4356-4d61-90fc-ca99f8d4f5d2"
      },
      "source": [
        "bt_128 = model.fit(\n",
        "  X_train, y_train,\n",
        "  epochs=25,\n",
        "  batch_size=32,\n",
        "  validation_data=(X_test, y_test)\n",
        ")"
      ],
      "execution_count": 24,
      "outputs": [
        {
          "output_type": "stream",
          "text": [
            "Epoch 1/25\n",
            "2000/2000 [==============================] - 3s 2ms/step - loss: 0.3445 - accuracy: 0.8956 - val_loss: 0.7095 - val_accuracy: 0.8108\n",
            "Epoch 2/25\n",
            "2000/2000 [==============================] - 3s 2ms/step - loss: 0.3481 - accuracy: 0.8933 - val_loss: 0.7085 - val_accuracy: 0.8108\n",
            "Epoch 3/25\n",
            "2000/2000 [==============================] - 3s 2ms/step - loss: 0.3468 - accuracy: 0.8936 - val_loss: 0.7157 - val_accuracy: 0.8136\n",
            "Epoch 4/25\n",
            "2000/2000 [==============================] - 3s 2ms/step - loss: 0.3431 - accuracy: 0.8947 - val_loss: 0.7201 - val_accuracy: 0.8127\n",
            "Epoch 5/25\n",
            "2000/2000 [==============================] - 3s 2ms/step - loss: 0.3432 - accuracy: 0.8950 - val_loss: 0.7207 - val_accuracy: 0.8136\n",
            "Epoch 6/25\n",
            "2000/2000 [==============================] - 3s 2ms/step - loss: 0.3403 - accuracy: 0.8958 - val_loss: 0.7301 - val_accuracy: 0.8084\n",
            "Epoch 7/25\n",
            "2000/2000 [==============================] - 3s 2ms/step - loss: 0.3440 - accuracy: 0.8953 - val_loss: 0.7274 - val_accuracy: 0.8108\n",
            "Epoch 8/25\n",
            "2000/2000 [==============================] - 3s 2ms/step - loss: 0.3411 - accuracy: 0.8960 - val_loss: 0.7279 - val_accuracy: 0.8072\n",
            "Epoch 9/25\n",
            "2000/2000 [==============================] - 3s 2ms/step - loss: 0.3453 - accuracy: 0.8944 - val_loss: 0.7307 - val_accuracy: 0.8084\n",
            "Epoch 10/25\n",
            "2000/2000 [==============================] - 3s 2ms/step - loss: 0.3415 - accuracy: 0.8960 - val_loss: 0.7270 - val_accuracy: 0.8116\n",
            "Epoch 11/25\n",
            "2000/2000 [==============================] - 3s 2ms/step - loss: 0.3433 - accuracy: 0.8951 - val_loss: 0.7228 - val_accuracy: 0.8111\n",
            "Epoch 12/25\n",
            "2000/2000 [==============================] - 3s 2ms/step - loss: 0.3408 - accuracy: 0.8958 - val_loss: 0.7270 - val_accuracy: 0.8120\n",
            "Epoch 13/25\n",
            "2000/2000 [==============================] - 3s 2ms/step - loss: 0.3394 - accuracy: 0.8958 - val_loss: 0.7148 - val_accuracy: 0.8107\n",
            "Epoch 14/25\n",
            "2000/2000 [==============================] - 3s 2ms/step - loss: 0.3365 - accuracy: 0.8982 - val_loss: 0.7204 - val_accuracy: 0.8126\n",
            "Epoch 15/25\n",
            "2000/2000 [==============================] - 3s 2ms/step - loss: 0.3358 - accuracy: 0.8959 - val_loss: 0.7319 - val_accuracy: 0.8105\n",
            "Epoch 16/25\n",
            "2000/2000 [==============================] - 3s 2ms/step - loss: 0.3371 - accuracy: 0.8972 - val_loss: 0.7320 - val_accuracy: 0.8097\n",
            "Epoch 17/25\n",
            "2000/2000 [==============================] - 3s 2ms/step - loss: 0.3380 - accuracy: 0.8965 - val_loss: 0.7286 - val_accuracy: 0.8077\n",
            "Epoch 18/25\n",
            "2000/2000 [==============================] - 3s 2ms/step - loss: 0.3343 - accuracy: 0.8971 - val_loss: 0.7407 - val_accuracy: 0.8101\n",
            "Epoch 19/25\n",
            "2000/2000 [==============================] - 3s 2ms/step - loss: 0.3342 - accuracy: 0.8979 - val_loss: 0.7383 - val_accuracy: 0.8128\n",
            "Epoch 20/25\n",
            "2000/2000 [==============================] - 3s 2ms/step - loss: 0.3381 - accuracy: 0.8958 - val_loss: 0.7301 - val_accuracy: 0.8087\n",
            "Epoch 21/25\n",
            "2000/2000 [==============================] - 3s 2ms/step - loss: 0.3355 - accuracy: 0.8975 - val_loss: 0.7288 - val_accuracy: 0.8119\n",
            "Epoch 22/25\n",
            "2000/2000 [==============================] - 3s 2ms/step - loss: 0.3360 - accuracy: 0.8972 - val_loss: 0.7399 - val_accuracy: 0.8112\n",
            "Epoch 23/25\n",
            "2000/2000 [==============================] - 3s 2ms/step - loss: 0.3290 - accuracy: 0.8996 - val_loss: 0.7292 - val_accuracy: 0.8097\n",
            "Epoch 24/25\n",
            "2000/2000 [==============================] - 3s 2ms/step - loss: 0.3329 - accuracy: 0.8976 - val_loss: 0.7300 - val_accuracy: 0.8092\n",
            "Epoch 25/25\n",
            "2000/2000 [==============================] - 3s 2ms/step - loss: 0.3314 - accuracy: 0.8988 - val_loss: 0.7389 - val_accuracy: 0.8104\n"
          ],
          "name": "stdout"
        }
      ]
    },
    {
      "cell_type": "code",
      "metadata": {
        "colab": {
          "base_uri": "https://localhost:8080/",
          "height": 279
        },
        "id": "g5fmr7tcMwR8",
        "outputId": "72f894ab-6172-4f9f-885a-35ba4e251024"
      },
      "source": [
        "import seaborn as sns\n",
        "import pandas as pd\n",
        "\n",
        "df = pd.DataFrame.from_records(bt_32.history)\n",
        "df['epoch'] = [i for i in range(df.shape[0])]\n",
        "\n",
        "ax = sns.lineplot(x='epoch', y='val_accuracy', data=df)\n",
        "ax = sns.lineplot(x='epoch', y='accuracy', data=df);"
      ],
      "execution_count": 27,
      "outputs": [
        {
          "output_type": "display_data",
          "data": {
            "image/png": "[encoded data removed]",
            "text/plain": [
              "<Figure size 432x288 with 1 Axes>"
            ]
          },
          "metadata": {
            "tags": [],
            "needs_background": "light"
          }
        }
      ]
    },
    {
      "cell_type": "code",
      "metadata": {
        "colab": {
          "base_uri": "https://localhost:8080/"
        },
        "id": "cjwhGPQXMzdU",
        "outputId": "c42d2f53-0e4f-4bb0-a2ba-db5279f8e5f3"
      },
      "source": [
        "df.head"
      ],
      "execution_count": 26,
      "outputs": [
        {
          "output_type": "execute_result",
          "data": {
            "text/plain": [
              "<bound method NDFrame.head of     accuracy      loss  val_accuracy  val_loss  epoch\n",
              "0   0.748453  0.814969       0.78195  0.702079      0\n",
              "1   0.799812  0.655751       0.79845  0.664525      1\n",
              "2   0.813500  0.610388       0.80800  0.642054      2\n",
              "3   0.819000  0.590826       0.81080  0.616217      3\n",
              "4   0.825750  0.574380       0.81435  0.622731      4\n",
              "5   0.830453  0.560037       0.81155  0.630940      5\n",
              "6   0.833766  0.546509       0.81215  0.626621      6\n",
              "7   0.836453  0.540251       0.81910  0.615938      7\n",
              "8   0.839906  0.530433       0.81565  0.629281      8\n",
              "9   0.839609  0.526516       0.81615  0.611285      9\n",
              "10  0.842609  0.517798       0.81665  0.620139     10\n",
              "11  0.844703  0.511329       0.81690  0.622268     11\n",
              "12  0.845391  0.506047       0.81530  0.625315     12\n",
              "13  0.847797  0.498798       0.81610  0.622629     13\n",
              "14  0.849219  0.494795       0.81645  0.617743     14\n",
              "15  0.850875  0.489910       0.81955  0.614419     15\n",
              "16  0.852781  0.483485       0.81560  0.624643     16\n",
              "17  0.853328  0.480728       0.81820  0.618261     17\n",
              "18  0.855187  0.477485       0.81870  0.613090     18\n",
              "19  0.856531  0.470918       0.81955  0.619155     19\n",
              "20  0.856438  0.466435       0.81870  0.613582     20\n",
              "21  0.858266  0.465394       0.81400  0.624321     21\n",
              "22  0.859266  0.460032       0.81770  0.624031     22\n",
              "23  0.858828  0.458815       0.81960  0.617949     23\n",
              "24  0.861938  0.455076       0.82035  0.626025     24>"
            ]
          },
          "metadata": {
            "tags": []
          },
          "execution_count": 26
        }
      ]
    },
    {
      "cell_type": "code",
      "metadata": {
        "colab": {
          "base_uri": "https://localhost:8080/",
          "height": 279
        },
        "id": "vUCEonMbPPRA",
        "outputId": "1245a883-33ec-4b87-8aca-a66b9706e37c"
      },
      "source": [
        "df2 = pd.DataFrame.from_records(bt_8.history)\n",
        "df2['epoch'] = [i for i in range(df2.shape[0])]\n",
        "\n",
        "ax = sns.lineplot(x='epoch', y='val_accuracy', data=df2)\n",
        "ax = sns.lineplot(x='epoch', y='accuracy', data=df2);"
      ],
      "execution_count": 28,
      "outputs": [
        {
          "output_type": "display_data",
          "data": {
            "image/png": "[encoded data removed]",
            "text/plain": [
              "<Figure size 432x288 with 1 Axes>"
            ]
          },
          "metadata": {
            "tags": [],
            "needs_background": "light"
          }
        }
      ]
    },
    {
      "cell_type": "code",
      "metadata": {
        "colab": {
          "base_uri": "https://localhost:8080/",
          "height": 279
        },
        "id": "vN9yznzZPYgK",
        "outputId": "644e25bb-2db9-4a82-abe4-1f794372fb76"
      },
      "source": [
        "df3 = pd.DataFrame.from_records(bt_16.history)\n",
        "df3['epoch'] = [i for i in range(df3.shape[0])]\n",
        "\n",
        "ax = sns.lineplot(x='epoch', y='val_accuracy', data=df3)\n",
        "ax = sns.lineplot(x='epoch', y='accuracy', data=df3);"
      ],
      "execution_count": 29,
      "outputs": [
        {
          "output_type": "display_data",
          "data": {
            "image/png": "[encoded data removed]",
            "text/plain": [
              "<Figure size 432x288 with 1 Axes>"
            ]
          },
          "metadata": {
            "tags": [],
            "needs_background": "light"
          }
        }
      ]
    },
    {
      "cell_type": "code",
      "metadata": {
        "colab": {
          "base_uri": "https://localhost:8080/",
          "height": 279
        },
        "id": "u8onFD2lPe_3",
        "outputId": "bc9c8585-7897-4752-bfac-1115e99f69b5"
      },
      "source": [
        "df4 = pd.DataFrame.from_records(bt_64.history)\n",
        "df4['epoch'] = [i for i in range(df4.shape[0])]\n",
        "\n",
        "ax = sns.lineplot(x='epoch', y='val_accuracy', data=df4)\n",
        "ax = sns.lineplot(x='epoch', y='accuracy', data=df4);"
      ],
      "execution_count": 30,
      "outputs": [
        {
          "output_type": "display_data",
          "data": {
            "image/png": "[encoded data removed]",
            "text/plain": [
              "<Figure size 432x288 with 1 Axes>"
            ]
          },
          "metadata": {
            "tags": [],
            "needs_background": "light"
          }
        }
      ]
    },
    {
      "cell_type": "code",
      "metadata": {
        "colab": {
          "base_uri": "https://localhost:8080/",
          "height": 279
        },
        "id": "SVO8j6OKPliE",
        "outputId": "647f3614-ed70-4a8c-b87e-8a1fe341977d"
      },
      "source": [
        "df5 = pd.DataFrame.from_records(bt_128.history)\n",
        "df5['epoch'] = [i for i in range(df5.shape[0])]\n",
        "\n",
        "ax = sns.lineplot(x='epoch', y='val_accuracy', data=df5)\n",
        "ax = sns.lineplot(x='epoch', y='accuracy', data=df5);"
      ],
      "execution_count": 31,
      "outputs": [
        {
          "output_type": "display_data",
          "data": {
            "image/png": "[encoded data removed]",
            "text/plain": [
              "<Figure size 432x288 with 1 Axes>"
            ]
          },
          "metadata": {
            "tags": [],
            "needs_background": "light"
          }
        }
      ]
    },
    {
      "cell_type": "code",
      "metadata": {
        "colab": {
          "base_uri": "https://localhost:8080/",
          "height": 206
        },
        "id": "BkNx8Z7dP_mn",
        "outputId": "5289efc6-dcf2-43c6-d410-05129a762fb7"
      },
      "source": [
        "\n",
        "batch_sizes = []\n",
        "\n",
        "for exp, result in zip([bt_8, bt_16, bt_32, bt_64, bt_128], [\"8_\", \"16_\", \"32_\", \"64_\", \"128_\"]):\n",
        "    df10 = pd.DataFrame.from_dict(exp.history)\n",
        "    df10['epoch'] = df10.index.values\n",
        "    df10['Batch Size'] = result\n",
        "    batch_sizes.append(df10)\n",
        "\n",
        "df10 = pd.concat(batch_sizes)\n",
        "df10['Batch Size'] = df10['Batch Size'].astype('str')\n",
        "df10.head()"
      ],
      "execution_count": 32,
      "outputs": [
        {
          "output_type": "execute_result",
          "data": {
            "text/html": [
              "<div>\n",
              "<style scoped>\n",
              "    .dataframe tbody tr th:only-of-type {\n",
              "        vertical-align: middle;\n",
              "    }\n",
              "\n",
              "    .dataframe tbody tr th {\n",
              "        vertical-align: top;\n",
              "    }\n",
              "\n",
              "    .dataframe thead th {\n",
              "        text-align: right;\n",
              "    }\n",
              "</style>\n",
              "<table border=\"1\" class=\"dataframe\">\n",
              "  <thead>\n",
              "    <tr style=\"text-align: right;\">\n",
              "      <th></th>\n",
              "      <th>loss</th>\n",
              "      <th>accuracy</th>\n",
              "      <th>val_loss</th>\n",
              "      <th>val_accuracy</th>\n",
              "      <th>epoch</th>\n",
              "      <th>Batch Size</th>\n",
              "    </tr>\n",
              "  </thead>\n",
              "  <tbody>\n",
              "    <tr>\n",
              "      <th>0</th>\n",
              "      <td>0.453496</td>\n",
              "      <td>0.862094</td>\n",
              "      <td>0.624776</td>\n",
              "      <td>0.81895</td>\n",
              "      <td>0</td>\n",
              "      <td>8_</td>\n",
              "    </tr>\n",
              "    <tr>\n",
              "      <th>1</th>\n",
              "      <td>0.448115</td>\n",
              "      <td>0.863719</td>\n",
              "      <td>0.634717</td>\n",
              "      <td>0.81620</td>\n",
              "      <td>1</td>\n",
              "      <td>8_</td>\n",
              "    </tr>\n",
              "    <tr>\n",
              "      <th>2</th>\n",
              "      <td>0.446271</td>\n",
              "      <td>0.863297</td>\n",
              "      <td>0.635151</td>\n",
              "      <td>0.81645</td>\n",
              "      <td>2</td>\n",
              "      <td>8_</td>\n",
              "    </tr>\n",
              "    <tr>\n",
              "      <th>3</th>\n",
              "      <td>0.444207</td>\n",
              "      <td>0.864359</td>\n",
              "      <td>0.631292</td>\n",
              "      <td>0.81595</td>\n",
              "      <td>3</td>\n",
              "      <td>8_</td>\n",
              "    </tr>\n",
              "    <tr>\n",
              "      <th>4</th>\n",
              "      <td>0.439931</td>\n",
              "      <td>0.865937</td>\n",
              "      <td>0.627700</td>\n",
              "      <td>0.82000</td>\n",
              "      <td>4</td>\n",
              "      <td>8_</td>\n",
              "    </tr>\n",
              "  </tbody>\n",
              "</table>\n",
              "</div>"
            ],
            "text/plain": [
              "       loss  accuracy  val_loss  val_accuracy  epoch Batch Size\n",
              "0  0.453496  0.862094  0.624776       0.81895      0         8_\n",
              "1  0.448115  0.863719  0.634717       0.81620      1         8_\n",
              "2  0.446271  0.863297  0.635151       0.81645      2         8_\n",
              "3  0.444207  0.864359  0.631292       0.81595      3         8_\n",
              "4  0.439931  0.865937  0.627700       0.82000      4         8_"
            ]
          },
          "metadata": {
            "tags": []
          },
          "execution_count": 32
        }
      ]
    },
    {
      "cell_type": "code",
      "metadata": {
        "colab": {
          "base_uri": "https://localhost:8080/",
          "height": 279
        },
        "id": "ste8cw-2Qn9b",
        "outputId": "1849824f-9cb7-45d0-b386-1ad4895f6d2e"
      },
      "source": [
        "sns.lineplot(x='epoch', y='val_accuracy', hue='Batch Size', data=df10);"
      ],
      "execution_count": 34,
      "outputs": [
        {
          "output_type": "display_data",
          "data": {
            "image/png": "[encoded data removed]",
            "text/plain": [
              "<Figure size 432x288 with 1 Axes>"
            ]
          },
          "metadata": {
            "tags": [],
            "needs_background": "light"
          }
        }
      ]
    },
    {
      "cell_type": "markdown",
      "metadata": {
        "id": "8b-r70o8p2Dm"
      },
      "source": [
        "### Experiment with Learning Rate\n",
        "* Run 5 experiments with various learning rate magnitudes: 1, .1, .01, .001, .0001.\n",
        "* Use the \"best\" batch size from the previous experiment\n",
        "* Visualize the results\n",
        "* Write up an analysis of the experiments and select the \"best\" performing model among your experiments. Make sure to compare against the previous experiments and your model's performance yesterday. "
      ]
    },
    {
      "cell_type": "code",
      "metadata": {
        "id": "_SA144xx8Luf"
      },
      "source": [
        "model2 = create_model(1)"
      ],
      "execution_count": 35,
      "outputs": []
    },
    {
      "cell_type": "code",
      "metadata": {
        "id": "p9znQR4bac0w"
      },
      "source": [
        ""
      ],
      "execution_count": null,
      "outputs": []
    },
    {
      "cell_type": "markdown",
      "metadata": {
        "id": "gxMtSRhV9Q7I"
      },
      "source": [
        "### Experiment with different Optimizers\n",
        "* Run 5 experiments with various optimizers available in TensorFlow. See list [here](https://www.tensorflow.org/api_docs/python/tf/keras/optimizers)\n",
        "* Visualize the results\n",
        "* Write up an analysis of the experiments and select the \"best\" performing model among your experiments. Make sure to compare against the previous experiments and your model's performance yesterday.\n",
        "* Repeat the experiment combining Learning Rate and different optimizers. Does the best performing model change? "
      ]
    },
    {
      "cell_type": "code",
      "metadata": {
        "id": "ujLuzdNA91ip"
      },
      "source": [
        ""
      ],
      "execution_count": null,
      "outputs": []
    },
    {
      "cell_type": "markdown",
      "metadata": {
        "id": "ydAqeY9S8uHA"
      },
      "source": [
        "### Additional Written Tasks\n",
        "\n",
        "1. Describe the process of backpropagation in your own words: \n",
        "```\n",
        "Your answer goes here.\n",
        "```\n",
        "\n"
      ]
    },
    {
      "cell_type": "markdown",
      "metadata": {
        "id": "FwlRJSfBlCvy"
      },
      "source": [
        "## Stretch Goals: \n",
        "\n",
        "- Implement GridSearch on anyone of the experiments\n",
        "- On the learning rate experiments, implement [EarlyStopping](https://www.tensorflow.org/api_docs/python/tf/keras/callbacks/EarlyStopping)\n",
        "- Review material on the math behind gradient descent: \n",
        "\n",
        "  - Gradient Descent\n",
        "    - Gradient Descent, Step-by-Step  by StatQuest w/ Josh Starmer. This will help you understand the gradient descent based optimization that happens underneath the hood of neural networks. It uses a non-neural network example, which I believe is a gentler introduction. You will hear me refer to this technique as \"vanilla\" gradient descent. \n",
        "    - Stochastic Gradient Descent, Clearly Explained!!! by StatQuest w/ Josh Starmer. This builds on the techniques in the previous video.  This technique is the one that is actually implemented inside modern 'nets. \n",
        "These are great resources to help you understand tomorrow's material at a deeper level. I highly recommend watching these ahead of tomorrow.\n",
        "\n",
        "  - Background Math\n",
        "    - Dot products and duality by 3Blue1Brown. Explains the core linear algebra operation happening in today's perceptron.\n",
        "The paradox of the derivative by 3Blue1Brown. Does a great job explaining a derivative. \n",
        "    - Visualizing the chain rule and product rule by 3Blue1Brown. Explains the black magic that happens within Stochastic Gradient Descent. \n",
        "These math resources are very much optional. They can be very heady, but I encourage you to explore. Your understanding of neural networks will greatly increase if you understand this math background.\n",
        "\n",
        "\n"
      ]
    }
  ]
}